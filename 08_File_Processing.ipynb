{
  "nbformat": 4,
  "nbformat_minor": 0,
  "metadata": {
    "colab": {
      "name": "08 File Processing.ipynb",
      "provenance": [],
      "include_colab_link": true
    },
    "kernelspec": {
      "name": "python3",
      "display_name": "Python 3"
    },
    "language_info": {
      "name": "python"
    }
  },
  "cells": [
    {
      "cell_type": "markdown",
      "metadata": {
        "id": "view-in-github",
        "colab_type": "text"
      },
      "source": [
        "<a href=\"https://colab.research.google.com/github/avivek5692/fmml2021/blob/main/08_File_Processing.ipynb\" target=\"_parent\"><img src=\"https://colab.research.google.com/assets/colab-badge.svg\" alt=\"Open In Colab\"/></a>"
      ]
    },
    {
      "cell_type": "code",
      "metadata": {
        "id": "on0OBs9S-eiS",
        "outputId": "6ab231ce-c42d-4e79-c8fc-b94d1e24ca95",
        "colab": {
          "base_uri": "https://localhost:8080/"
        }
      },
      "source": [
        "!wget https://raw.githubusercontent.com/aosp-mirror/platform_external_protobuf/master/CONTRIBUTORS.txt"
      ],
      "execution_count": 1,
      "outputs": [
        {
          "output_type": "stream",
          "name": "stdout",
          "text": [
            "--2021-09-11 15:13:25--  https://raw.githubusercontent.com/aosp-mirror/platform_external_protobuf/master/CONTRIBUTORS.txt\n",
            "Resolving raw.githubusercontent.com (raw.githubusercontent.com)... 185.199.108.133, 185.199.109.133, 185.199.110.133, ...\n",
            "Connecting to raw.githubusercontent.com (raw.githubusercontent.com)|185.199.108.133|:443... connected.\n",
            "HTTP request sent, awaiting response... 200 OK\n",
            "Length: 3924 (3.8K) [text/plain]\n",
            "Saving to: ‘CONTRIBUTORS.txt’\n",
            "\n",
            "\rCONTRIBUTORS.txt      0%[                    ]       0  --.-KB/s               \rCONTRIBUTORS.txt    100%[===================>]   3.83K  --.-KB/s    in 0s      \n",
            "\n",
            "2021-09-11 15:13:25 (69.5 MB/s) - ‘CONTRIBUTORS.txt’ saved [3924/3924]\n",
            "\n"
          ]
        }
      ]
    },
    {
      "cell_type": "code",
      "metadata": {
        "id": "Rg5LcpidAP7I"
      },
      "source": [
        "infile_pointer = open(\"CONTRIBUTORS.txt\", \"r\")\n",
        "outfile_pointer = open(\"emails-id.txt\", \"w\")"
      ],
      "execution_count": 5,
      "outputs": []
    },
    {
      "cell_type": "code",
      "metadata": {
        "id": "4yocH5ViAb-g",
        "outputId": "92be73b6-c151-4990-ace4-520c159ddc10",
        "colab": {
          "base_uri": "https://localhost:8080/"
        }
      },
      "source": [
        "for each_line in infile_pointer:\n",
        "  if (each_line.count('@') > 0) and (each_line.count('<') > 0):\n",
        "      print (each_line)\n",
        "      outfile_pointer.write(each_line)\n",
        "infile_pointer.close()\n",
        "outfile_pointer.close()"
      ],
      "execution_count": 6,
      "outputs": [
        {
          "output_type": "stream",
          "name": "stdout",
          "text": [
            "  Sanjay Ghemawat <sanjay@google.com>\n",
            "\n",
            "  Jeff Dean <jeff@google.com>\n",
            "\n",
            "  Daniel Dulitz <daniel@google.com>\n",
            "\n",
            "  Paul Haahr <haahr@google.com>\n",
            "\n",
            "  Corey Anderson <corin@google.com>\n",
            "\n",
            "  Kenton Varda <kenton@google.com>\n",
            "\n",
            "  Will Robinson <robinson@google.com>\n",
            "\n",
            "  Petar Petrov <petar@google.com>\n",
            "\n",
            "  Brian Duff <bduff@google.com>\n",
            "\n",
            "  Tom Chao <chaot@google.com>\n",
            "\n",
            "  Max Cai <maxtroy@google.com>\n",
            "\n",
            "  Ulas Kirazci <ulas@google.com>\n",
            "\n",
            "  Jason Hsueh <jasonh@google.com>\n",
            "\n",
            "  Joseph Schorr <jschorr@google.com>\n",
            "\n",
            "  Wenbo Zhu <wenboz@google.com>\n",
            "\n",
            "  Scott Bruce <sbruce@google.com>\n",
            "\n",
            "  Neal Norwitz <nnorwitz@google.com>\n",
            "\n",
            "  Jeffrey Yasskin <jyasskin@google.com>\n",
            "\n",
            "  Ambrose Feinstein <ambrose@google.com>\n",
            "\n",
            "  Lisa Carey <lcarey@google.com>\n",
            "\n",
            "  Gregory Kick <gak@google.com>\n",
            "\n",
            "  Kevin Ko <kevin.s.ko@gmail.com>\n",
            "\n",
            "  Johan Euphrosine <proppy@aminche.com>\n",
            "\n",
            "  Ulrich Kunitz <kune@deine-taler.de>\n",
            "\n",
            "  Leandro Lucarella <llucax@gmail.com>\n",
            "\n",
            "  Dilip Joseph <dilip.antony.joseph@gmail.com>\n",
            "\n",
            "  Brian Atkinson <nairb774@gmail.com>\n",
            "\n",
            "  Vincent Choinière <Choiniere.Vincent@hydro.qc.ca>\n",
            "\n",
            "  Monty Taylor <monty.taylor@gmail.com>\n",
            "\n",
            "  Alek Storm <alek.storm@gmail.com>\n",
            "\n",
            "  Oleg Smolsky <oleg.smolsky@gmail.com>\n",
            "\n",
            "  Brian Olson <brianolson@google.com>\n",
            "\n",
            "  Michael Poole <mdpoole@troilus.org>\n",
            "\n",
            "  Wink Saville <wink@google.com>\n",
            "\n",
            "  Will Pierce <willp@nuclei.com>\n",
            "\n",
            "  Alexandre Vassalotti <alexandre@peadrop.com>\n",
            "\n",
            "  Scott Stafford <scott.stafford@gmail.com>\n",
            "\n",
            "  Alexander Melnikov <alm@sibmail.ru>\n",
            "\n",
            "  Oliver Jowett <oliver.jowett@gmail.com>\n",
            "\n",
            "  Evan Jones <evanj@mit.edu>\n",
            "\n",
            "  Michael Kucharski <m.kucharski@gmail.com>\n",
            "\n",
            "  Kacper Kowalik <xarthisius.kk@gmail.com>\n",
            "\n",
            "  William Orr <will@worrbase.com>\n",
            "\n",
            "  Andrew Paprocki <andrew@ishiboo.com>\n",
            "\n"
          ]
        }
      ]
    },
    {
      "cell_type": "markdown",
      "metadata": {
        "id": "SQXmi29jaw7G"
      },
      "source": [
        ""
      ]
    },
    {
      "cell_type": "code",
      "metadata": {
        "id": "jcMUd4hNCQiU"
      },
      "source": [
        "# https://github.com/mysql/mysql-server/blob/8.0/Docs/sp-imp-spec.txt\n",
        "# Write a program to save all lines that start with '-' in a separate file\n",
        "# Ignore all leading blank characters."
      ],
      "execution_count": null,
      "outputs": []
    },
    {
      "cell_type": "code",
      "metadata": {
        "id": "tjihbs9cbRkG",
        "outputId": "1ff6a1b5-29ac-4b7a-cbdd-7f38f1afb6cf",
        "colab": {
          "base_uri": "https://localhost:8080/"
        }
      },
      "source": [
        "!wget https://raw.githubusercontent.com/mysql/mysql-server/8.0/Docs/sp-imp-spec.txt"
      ],
      "execution_count": 7,
      "outputs": [
        {
          "output_type": "stream",
          "name": "stdout",
          "text": [
            "--2021-09-11 15:15:14--  https://raw.githubusercontent.com/mysql/mysql-server/8.0/Docs/sp-imp-spec.txt\n",
            "Resolving raw.githubusercontent.com (raw.githubusercontent.com)... 185.199.108.133, 185.199.109.133, 185.199.111.133, ...\n",
            "Connecting to raw.githubusercontent.com (raw.githubusercontent.com)|185.199.108.133|:443... connected.\n",
            "HTTP request sent, awaiting response... 200 OK\n",
            "Length: 43014 (42K) [text/plain]\n",
            "Saving to: ‘sp-imp-spec.txt’\n",
            "\n",
            "\rsp-imp-spec.txt       0%[                    ]       0  --.-KB/s               \rsp-imp-spec.txt     100%[===================>]  42.01K  --.-KB/s    in 0s      \n",
            "\n",
            "2021-09-11 15:15:14 (130 MB/s) - ‘sp-imp-spec.txt’ saved [43014/43014]\n",
            "\n"
          ]
        }
      ]
    },
    {
      "cell_type": "markdown",
      "metadata": {
        "id": "CzILoddNaWPQ"
      },
      "source": [
        "Reference: [Official Python Documentation](https://docs.python.org/3/tutorial/inputoutput.html)\n",
        "\n",
        "String methods: [Link](https://www.w3schools.com/python/python_ref_string.asp)"
      ]
    },
    {
      "cell_type": "code",
      "metadata": {
        "id": "FvCSCnazbZAk"
      },
      "source": [
        "infile = open(\"sp-imp-spec.txt\", \"r\")\n",
        "outfile = open(\"vivek.txt\", \"w\")"
      ],
      "execution_count": 30,
      "outputs": []
    },
    {
      "cell_type": "code",
      "metadata": {
        "id": "M3JSGrGAbqP7",
        "outputId": "08e6468c-2ef5-4509-b011-18dd1538d593",
        "colab": {
          "base_uri": "https://localhost:8080/"
        }
      },
      "source": [
        "for line in infile:\n",
        "  if (line.startswith('-')) and (line.count(\" \")>0):\n",
        "      print (line)\n",
        "      outfile.write(line)\n",
        "infile.close()\n",
        "outfile.close()"
      ],
      "execution_count": 31,
      "outputs": [
        {
          "output_type": "stream",
          "name": "stdout",
          "text": [
            "- How parsing and execution of queries work\n",
            "\n",
            "- How to fit Stored Procedure into this scheme\n",
            "\n"
          ]
        }
      ]
    },
    {
      "cell_type": "code",
      "metadata": {
        "id": "gwMj-OGUcioS"
      },
      "source": [
        ""
      ],
      "execution_count": null,
      "outputs": []
    }
  ]
}